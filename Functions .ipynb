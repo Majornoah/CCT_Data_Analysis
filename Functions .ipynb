{
 "cells": [
  {
   "cell_type": "markdown",
   "id": "10b10c19",
   "metadata": {},
   "source": [
    "\n",
    "# FUNCTIONS"
   ]
  },
  {
   "cell_type": "code",
   "execution_count": 17,
   "id": "dd5ea45a",
   "metadata": {},
   "outputs": [],
   "source": [
    "a = 6\n",
    "b = 3 "
   ]
  },
  {
   "cell_type": "code",
   "execution_count": 18,
   "id": "ea117ad3",
   "metadata": {},
   "outputs": [],
   "source": [
    "a, b = b, a"
   ]
  },
  {
   "cell_type": "code",
   "execution_count": 19,
   "id": "3968abff",
   "metadata": {},
   "outputs": [
    {
     "name": "stdout",
     "output_type": "stream",
     "text": [
      "a = 3 b = 6\n"
     ]
    }
   ],
   "source": [
    "print(\"a = \" + str(a), \"b = \" + str(b))"
   ]
  },
  {
   "cell_type": "code",
   "execution_count": 26,
   "id": "4424e3f4",
   "metadata": {},
   "outputs": [],
   "source": [
    "def switch (a, b):\n",
    "    val1, val2 = b, a\n",
    "    return val1, val2 "
   ]
  },
  {
   "cell_type": "code",
   "execution_count": 38,
   "id": "6302fcab",
   "metadata": {},
   "outputs": [
    {
     "ename": "NameError",
     "evalue": "name 'val1' is not defined",
     "output_type": "error",
     "traceback": [
      "\u001b[1;31m---------------------------------------------------------------------------\u001b[0m",
      "\u001b[1;31mNameError\u001b[0m                                 Traceback (most recent call last)",
      "\u001b[1;32mC:\\Users\\MAJORN~1\\AppData\\Local\\Temp/ipykernel_8528/3278424791.py\u001b[0m in \u001b[0;36m<module>\u001b[1;34m\u001b[0m\n\u001b[0;32m      1\u001b[0m \u001b[0ma\u001b[0m\u001b[1;33m,\u001b[0m \u001b[0mb\u001b[0m\u001b[1;33m=\u001b[0m \u001b[0mswitch\u001b[0m\u001b[1;33m(\u001b[0m\u001b[0ma\u001b[0m\u001b[1;33m,\u001b[0m \u001b[0mb\u001b[0m\u001b[1;33m)\u001b[0m\u001b[1;33m\u001b[0m\u001b[1;33m\u001b[0m\u001b[0m\n\u001b[1;32m----> 2\u001b[1;33m \u001b[0mprint\u001b[0m \u001b[1;33m(\u001b[0m\u001b[0mval1\u001b[0m\u001b[1;33m,\u001b[0m \u001b[0mval2\u001b[0m\u001b[1;33m)\u001b[0m\u001b[1;33m\u001b[0m\u001b[1;33m\u001b[0m\u001b[0m\n\u001b[0m",
      "\u001b[1;31mNameError\u001b[0m: name 'val1' is not defined"
     ]
    }
   ],
   "source": [
    "a, b= switch(a, b)\n",
    "print (val1, val2)"
   ]
  },
  {
   "cell_type": "code",
   "execution_count": 28,
   "id": "26a75fcd",
   "metadata": {},
   "outputs": [],
   "source": [
    "def add (a,b): \n",
    "    val = a + b\n",
    "    return val"
   ]
  },
  {
   "cell_type": "code",
   "execution_count": 29,
   "id": "ae2df3c1",
   "metadata": {},
   "outputs": [],
   "source": [
    "x = 3\n",
    "y = 7\n",
    "result =add(x,y)"
   ]
  },
  {
   "cell_type": "code",
   "execution_count": 30,
   "id": "8e3764d8",
   "metadata": {},
   "outputs": [
    {
     "data": {
      "text/plain": [
       "10"
      ]
     },
     "execution_count": 30,
     "metadata": {},
     "output_type": "execute_result"
    }
   ],
   "source": [
    "result"
   ]
  },
  {
   "cell_type": "code",
   "execution_count": 32,
   "id": "b2fa6404",
   "metadata": {},
   "outputs": [],
   "source": [
    "def mean (a,b,c,d):\n",
    "    val=(a+b+c+d)/4\n",
    "    return val"
   ]
  },
  {
   "cell_type": "code",
   "execution_count": 34,
   "id": "ea6ffab2",
   "metadata": {},
   "outputs": [
    {
     "data": {
      "text/plain": [
       "5.5"
      ]
     },
     "execution_count": 34,
     "metadata": {},
     "output_type": "execute_result"
    }
   ],
   "source": [
    "a=2\n",
    "b=4\n",
    "c=10\n",
    "d=6\n",
    "val = mean(a,b,c,d)\n",
    "val"
   ]
  },
  {
   "cell_type": "code",
   "execution_count": 35,
   "id": "cb7a0589",
   "metadata": {},
   "outputs": [],
   "source": [
    "def square(x):\n",
    "    val=(x*x)\n",
    "    return val"
   ]
  },
  {
   "cell_type": "code",
   "execution_count": 39,
   "id": "9cfde540",
   "metadata": {},
   "outputs": [
    {
     "data": {
      "text/plain": [
       "324"
      ]
     },
     "execution_count": 39,
     "metadata": {},
     "output_type": "execute_result"
    }
   ],
   "source": [
    "y=18\n",
    "result= square (y)\n",
    "result\n"
   ]
  },
  {
   "cell_type": "code",
   "execution_count": 76,
   "id": "970f6600",
   "metadata": {},
   "outputs": [],
   "source": [
    "def sum_even (my_list):\n",
    "    val = [3+12+5+1+2+2]\n",
    "    return val\n"
   ]
  },
  {
   "cell_type": "code",
   "execution_count": 78,
   "id": "8f788532",
   "metadata": {},
   "outputs": [
    {
     "data": {
      "text/plain": [
       "[25]"
      ]
     },
     "execution_count": 78,
     "metadata": {},
     "output_type": "execute_result"
    }
   ],
   "source": [
    "my_list= [3,12,5,1,2,2]\n",
    "result= sum_even (my_list)\n",
    "result"
   ]
  }
 ],
 "metadata": {
  "kernelspec": {
   "display_name": "Python 3 (ipykernel)",
   "language": "python",
   "name": "python3"
  },
  "language_info": {
   "codemirror_mode": {
    "name": "ipython",
    "version": 3
   },
   "file_extension": ".py",
   "mimetype": "text/x-python",
   "name": "python",
   "nbconvert_exporter": "python",
   "pygments_lexer": "ipython3",
   "version": "3.9.7"
  }
 },
 "nbformat": 4,
 "nbformat_minor": 5
}
